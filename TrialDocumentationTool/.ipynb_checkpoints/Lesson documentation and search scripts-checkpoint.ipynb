{
 "cells": [
  {
   "cell_type": "code",
   "execution_count": 51,
   "metadata": {
    "collapsed": false
   },
   "outputs": [
    {
     "data": {
      "text/plain": [
       "'\\nPurpose: To document and resurface lesssons\\nInputs: Lesson compendium JSON file, lesson documentation template, lesson search template\\nOutputs: Lesson compendium JSON file(Updated), relevant lesson dataframe\\nDate: 2019-05-06\\nAuthor: Daniel Min\\n'"
      ]
     },
     "execution_count": 51,
     "metadata": {},
     "output_type": "execute_result"
    }
   ],
   "source": [
    "\"\"\"\n",
    "Purpose: To document and resurface lesssons\n",
    "Inputs: Lesson compendium JSON file, lesson documentation template, lesson search template\n",
    "Outputs: Lesson compendium JSON file(Updated), relevant lesson dataframe\n",
    "Date: 2019-05-06\n",
    "Author: Daniel Min\n",
    "\"\"\""
   ]
  },
  {
   "cell_type": "code",
   "execution_count": 2,
   "metadata": {
    "collapsed": false
   },
   "outputs": [],
   "source": [
    "# Import packages\n",
    "\n",
    "import json\n",
    "import glob\n",
    "import xlrd\n",
    "import pprint\n",
    "import pandas as pd\n",
    "import numpy as np\n",
    "import pprint\n",
    "import nltk \n",
    "from nltk.corpus import wordnet \n",
    "from fuzzywuzzy import fuzz"
   ]
  },
  {
   "cell_type": "code",
   "execution_count": 3,
   "metadata": {
    "collapsed": true
   },
   "outputs": [],
   "source": [
    "# Define inputs\n",
    "## Update this section and the templates as the lesson learned data changes\n",
    "\n",
    "AttributesFields = [\"Patient_Profile\", \"Symptoms\", \"Specialty\", \"Therapy\", \"Trial_Time\", \"Other\"]\n",
    "LesssonsFields = [\"Lesson_Name\", \"Description\", \"Date\", \"Warning_Level\", \"Recommendation\"]\n",
    "TrialFields = [\"Trial_Name\", \"Trial_Start_Date\", \"Study_Manager_Name\", \"Vant_Name\"]\n",
    "\n",
    "AllFields = AttributesFields + LesssonsFields + TrialFields"
   ]
  },
  {
   "cell_type": "code",
   "execution_count": 4,
   "metadata": {
    "collapsed": true
   },
   "outputs": [],
   "source": [
    "# Functions for reading the templates\n",
    "def LowerCase(list1):\n",
    "    \"\"\"\n",
    "    Turn all strings in the list into a lower case\n",
    "    \"\"\"\n",
    "    return [word.lower() for word in list1]\n",
    "\n",
    "def ReduceDataframe(df, field):\n",
    "    \"\"\"\n",
    "    For a given row, combine all string across all columns into one list and save it as a column\n",
    "    \"\"\"\n",
    "    Dict = {}\n",
    "    for row in df.iterrows():\n",
    "        AllKeyWords = []\n",
    "        index, data = row\n",
    "        if index in field:\n",
    "            data = data.dropna()\n",
    "            List = [words for segments in data.tolist() for words in segments.split()]\n",
    "            AllKeyWords += (List)\n",
    "            Dict[index] = AllKeyWords\n",
    "    \n",
    "    return Dict\n",
    "\n",
    "def LessonTrialReadSheets(field, df, path):\n",
    "    \"\"\"\n",
    "    Read lesson and trial information for each lesson in the excel tempalte\n",
    "    \"\"\"\n",
    "    ResultDict = {}\n",
    "    ResultDf = pd.read_excel(path, df, skiprows = 3, usecols =[1,2])\n",
    "    for index, row in ResultDf.iterrows():\n",
    "                if row['Field'] in field:\n",
    "                    ResultDict[row['Field']] = str(row['Value'])\n",
    "    \n",
    "    return ResultDict\n",
    "\n",
    "\n",
    "def AttributeReadSheets(field, df, path, pull):\n",
    "    \"\"\"\n",
    "    Read attribute information for each lesson in the excel tempalte\n",
    "    \"\"\"\n",
    "    ResultDict = {}\n",
    "    ResultDf = pd.read_excel(path, df, skiprows = 3).drop([\"Unnamed: 0\"], axis=1)\n",
    "    ResultDf = ResultDf.set_index(ResultDf[\"Field\"]).drop(\"Field\", axis =1)\n",
    "    \n",
    "    ResultDict = ReduceDataframe(ResultDf, field)\n",
    "    \n",
    "    return ResultDict"
   ]
  },
  {
   "cell_type": "code",
   "execution_count": 5,
   "metadata": {
    "collapsed": false
   },
   "outputs": [
    {
     "name": "stdout",
     "output_type": "stream",
     "text": [
      "[{'Trial': {'Vant_Name': 'Immunovant', 'Trial_Name': 'XX drug testing', 'Trial_Start_Date': '2019-04-29 00:00:00', 'Study_Manager_Name': 'Daniel Min'}, 'Description': 'Students might not be able to participate in the trials where adolescents are in focus. ', 'Attributes': {'Patient_Profile': ['Adolescents'], 'Symptoms': [], 'Trial_Time': [], 'Other': [], 'Specialty': [], 'Therapy': []}, 'Recommendation': 'Note the vacation days for each particpant to organize the trial schedule', 'Warning_Level': 'Red', 'Lesson_Name': 'School vacation times and adolescent participants', 'Date': '2019-04-29 00:00:00'}, {'Trial': {'Vant_Name': 'Immunovant', 'Trial_Name': 'XX drug testing', 'Trial_Start_Date': '2019-04-29 00:00:00', 'Study_Manager_Name': 'Daniel Min'}, 'Description': 'Teenagers show adverse symptoms when taking a high dosage of XX drug', 'Attributes': {'Patient_Profile': ['Teenager'], 'Symptoms': [], 'Trial_Time': [], 'Other': [], 'Specialty': [], 'Therapy': ['XX']}, 'Recommendation': 'Do not give more than XXml of the therapy with xx dosage', 'Warning_Level': 'Yellow', 'Lesson_Name': 'High dosage of XX drug on adolescents', 'Date': '2019-04-30 00:00:00'}]\n"
     ]
    }
   ],
   "source": [
    "# Import excel lesson documentation template\n",
    "## Input: lesson documentaiton template\n",
    "## Output: dictionary with the information on the lesson that requires documentation\n",
    "\n",
    "path = \"./\"\n",
    "ExcelLogPath = glob.glob(path+'Lesson documentation template.xlsx')[0]\n",
    "ExcelLesson = xlrd.open_workbook(r''+ExcelLogPath, on_demand=True)\n",
    "AllLessons = []\n",
    "\n",
    "for lessons in ExcelLesson.sheet_names():\n",
    "    if lessons != \"Instructions\":\n",
    "        if lessons == \"Trial\":\n",
    "            DictTrial = LessonTrialReadSheets(TrialFields, lessons, ExcelLogPath)\n",
    "        else:\n",
    "            # Lessons\n",
    "            DictLesson = LessonTrialReadSheets(LesssonsFields, lessons, ExcelLogPath)\n",
    "            \n",
    "            # Attributes\n",
    "            DictAttributes = AttributeReadSheets(AttributesFields, lessons, ExcelLogPath, \"\")\n",
    "            \n",
    "            DictEntry = DictLesson\n",
    "            DictEntry[\"Attributes\"] = DictAttributes\n",
    "            DictEntry[\"Trial\"] = DictTrial\n",
    "            AllLessons.append(DictEntry)\n",
    "\n",
    "print(AllLessons)"
   ]
  },
  {
   "cell_type": "code",
   "execution_count": 6,
   "metadata": {
    "collapsed": false
   },
   "outputs": [],
   "source": [
    "# Read the exisitng lesson in the JSON file and add the new ones from the excel template\n",
    "## Input and output: lesson compendium JSON file\n",
    "\n",
    "with open(\"Lesson compendium.json\", \"r\") as jsonFile:\n",
    "    data = json.load(jsonFile)\n",
    "    data[\"Lessons\"] += AllLessons\n",
    "    \n",
    "with open(\"Lesson compendium.json\", \"w\") as jsonFile:\n",
    "    json.dump(data, jsonFile)"
   ]
  },
  {
   "cell_type": "code",
   "execution_count": 8,
   "metadata": {
    "collapsed": false
   },
   "outputs": [
    {
     "name": "stdout",
     "output_type": "stream",
     "text": [
      "{'Patient_Profile': ['Adolescent'], 'Trial_Name': [], 'Symptoms': [], 'Trial_Time': [], 'Other': [], 'Warning_Level': ['Red'], 'Specialty': [], 'Therapy': ['Aspirin']}\n"
     ]
    }
   ],
   "source": [
    "# Pull data from the search template\n",
    "## Input: excel search tempalte\n",
    "## Output: dictionary with search specification\n",
    "\n",
    "path = \"./\"\n",
    "ExcelSearchPath = glob.glob(path+'Lesson search template.xlsx')[0]\n",
    "ExcelSearch = xlrd.open_workbook(r''+ExcelSearchPath, on_demand=True)\n",
    "\n",
    "for tab in ExcelSearch.sheet_names():\n",
    "    if tab != \"Instructions\":\n",
    "        DictSearch = AttributeReadSheets(AllFields, tab, ExcelSearchPath, \"\")\n",
    "\n",
    "print(DictSearch)"
   ]
  },
  {
   "cell_type": "code",
   "execution_count": 9,
   "metadata": {
    "collapsed": true
   },
   "outputs": [],
   "source": [
    "# Functions for identifying synonyms and ranking the relevance of the lessons\n",
    "\n",
    "def FindSynonym (dictionary, key, Finlist):\n",
    "    \"\"\"\n",
    "    Find all synonyms for each word\n",
    "    \"\"\"\n",
    "    for word in dictionary[key]:\n",
    "        synonyms = [] \n",
    "        for syn in wordnet.synsets(word): \n",
    "            for l in syn.lemmas(): \n",
    "                synonyms.append(l.name()) \n",
    "        synonyms = list(set(synonyms))\n",
    "        Finlist = dict(Finlist, **{word: synonyms})\n",
    "    \n",
    "    return Finlist\n",
    "\n",
    "def EvaluateMatch (field, synDict, lesson):\n",
    "    \"\"\"\n",
    "    Give a score for each word in the specification from the excel template file\n",
    "    \"\"\"\n",
    "    AllScore = 0\n",
    "    for subField in lesson[field]:\n",
    "        if subField in synDict:\n",
    "            for word in synDict[subField]:\n",
    "                TrackScore = 0\n",
    "                for syn in synDict[subField][word]:\n",
    "                    if field == \"Trial\":\n",
    "                        LessonWords = lesson[field][subField].split(\" \")\n",
    "                    elif field == \"Attributes\":\n",
    "                        LessonWords = lesson[field][subField]\n",
    "                    for lessonWord in LessonWords:\n",
    "                        Score = fuzz.ratio(syn,lessonWord)\n",
    "                        if fuzz.ratio(syn,lessonWord) > 80 and TrackScore == 0:\n",
    "                            TrackScore += 1         \n",
    "                AllScore += TrackScore\n",
    "    return(AllScore)"
   ]
  },
  {
   "cell_type": "code",
   "execution_count": 10,
   "metadata": {
    "collapsed": false
   },
   "outputs": [
    {
     "name": "stdout",
     "output_type": "stream",
     "text": [
      "{'Patient_Profile': {'Adolescent': ['puerile', 'teenager', 'juvenile', 'teen', 'teenaged', 'teenage', 'adolescent', 'stripling', 'jejune']}, 'Trial_Name': {}, 'Symptoms': {}, 'Trial_Time': {}, 'Other': {}, 'Warning_Level': ['Red'], 'Specialty': {}, 'Therapy': {'Aspirin': ['Empirin', 'St._Joseph', 'Bayer', 'acetylsalicylic_acid', 'aspirin']}}\n"
     ]
    }
   ],
   "source": [
    "# Pull synonyms from the search keywords\n",
    "## Input: dictionary with search specification\n",
    "## Output: dictionary with keywords AND their synonyms\n",
    "\n",
    "DictSearchSyn = DictSearch\n",
    "\n",
    "for key in DictSearchSyn:\n",
    "    KeySyn = {}\n",
    "    if key != \"Warning_Level\":\n",
    "        KeySyn = FindSynonym (DictSearchSyn, key, KeySyn)\n",
    "    else:\n",
    "        KeySyn = DictSearchSyn[key]\n",
    "    DictSearchSyn[key] = KeySyn\n",
    "   \n",
    "print(DictSearchSyn)\n"
   ]
  },
  {
   "cell_type": "code",
   "execution_count": 11,
   "metadata": {
    "collapsed": false
   },
   "outputs": [],
   "source": [
    "# Rank and sort the lessons\n",
    "\n",
    "with open(\"Lesson compendium.json\", \"r\") as jsonFile:\n",
    "    data = json.load(jsonFile)\n",
    "    \n",
    "ScoreData = []\n",
    "for lesson in data[\"Lessons\"]:\n",
    "    AllScore = 0\n",
    "    for field in lesson:\n",
    "        if field == \"Trial\" or field == \"Attributes\":\n",
    "            Score = EvaluateMatch (field, DictSearchSyn, lesson)\n",
    "            AllScore += Score\n",
    "        elif field == \"Warning_Level\":\n",
    "            if DictSearchSyn[field][0] == lesson[field]:\n",
    "                AllScore += 1      \n",
    "    if AllScore > 0:\n",
    "        ScoreData.append([lesson[\"Lesson_Name\"], lesson[\"Description\"], lesson[\"Warning_Level\"], lesson[\"Recommendation\"], AllScore ])\n",
    "\n"
   ]
  },
  {
   "cell_type": "code",
   "execution_count": 12,
   "metadata": {
    "collapsed": false
   },
   "outputs": [
    {
     "data": {
      "text/html": [
       "<div>\n",
       "<table border=\"1\" class=\"dataframe\">\n",
       "  <thead>\n",
       "    <tr style=\"text-align: right;\">\n",
       "      <th></th>\n",
       "      <th>Lesson Name</th>\n",
       "      <th>Description</th>\n",
       "      <th>Warning Level</th>\n",
       "      <th>Recommendation</th>\n",
       "      <th>Relevance Score</th>\n",
       "    </tr>\n",
       "  </thead>\n",
       "  <tbody>\n",
       "    <tr>\n",
       "      <th>0</th>\n",
       "      <td>Frequency of aspirin consumption on adolescents</td>\n",
       "      <td>Regular consumption of aspirin adolescents is dangerous</td>\n",
       "      <td>Red</td>\n",
       "      <td>Do not give more 1 pill of aspirin to adolescents</td>\n",
       "      <td>3</td>\n",
       "    </tr>\n",
       "    <tr>\n",
       "      <th>1</th>\n",
       "      <td>School vacation times and adolescent participants</td>\n",
       "      <td>Students might not be able to participate in the trials where adolescents are in focus.</td>\n",
       "      <td>Red</td>\n",
       "      <td>Note the vacation days for each particpant to organize the trial schedule</td>\n",
       "      <td>2</td>\n",
       "    </tr>\n",
       "    <tr>\n",
       "      <th>2</th>\n",
       "      <td>School vacations on parents</td>\n",
       "      <td>Some parents will not be able to attend the study as their kids might be out of school</td>\n",
       "      <td>Red</td>\n",
       "      <td>Ask for unavailable dates</td>\n",
       "      <td>1</td>\n",
       "    </tr>\n",
       "    <tr>\n",
       "      <th>3</th>\n",
       "      <td>High dosage of XX drug on adolescents</td>\n",
       "      <td>Teenagers show adverse symptoms when taking a high dosage of XX drug</td>\n",
       "      <td>Yellow</td>\n",
       "      <td>Do not give more than XXml of the therapy with xx dosage</td>\n",
       "      <td>1</td>\n",
       "    </tr>\n",
       "    <tr>\n",
       "      <th>4</th>\n",
       "      <td>Doses of Genvoya on adolescents</td>\n",
       "      <td>Strong dosage of Genvoya on adolescents is dangerous</td>\n",
       "      <td>Yellow</td>\n",
       "      <td>Do not give more than XXml of Genvoya to adolescents</td>\n",
       "      <td>1</td>\n",
       "    </tr>\n",
       "  </tbody>\n",
       "</table>\n",
       "</div>"
      ],
      "text/plain": [
       "                                         Lesson Name  \\\n",
       "0  Frequency of aspirin consumption on adolescents     \n",
       "1  School vacation times and adolescent participants   \n",
       "2  School vacations on parents                         \n",
       "3  High dosage of XX drug on adolescents               \n",
       "4  Doses of Genvoya on adolescents                     \n",
       "\n",
       "                                                                                Description  \\\n",
       "0  Regular consumption of aspirin adolescents is dangerous                                    \n",
       "1  Students might not be able to participate in the trials where adolescents are in focus.    \n",
       "2  Some parents will not be able to attend the study as their kids might be out of school     \n",
       "3  Teenagers show adverse symptoms when taking a high dosage of XX drug                       \n",
       "4  Strong dosage of Genvoya on adolescents is dangerous                                       \n",
       "\n",
       "  Warning Level  \\\n",
       "0  Red            \n",
       "1  Red            \n",
       "2  Red            \n",
       "3  Yellow         \n",
       "4  Yellow         \n",
       "\n",
       "                                                              Recommendation  \\\n",
       "0  Do not give more 1 pill of aspirin to adolescents                           \n",
       "1  Note the vacation days for each particpant to organize the trial schedule   \n",
       "2  Ask for unavailable dates                                                   \n",
       "3  Do not give more than XXml of the therapy with xx dosage                    \n",
       "4  Do not give more than XXml of Genvoya to adolescents                        \n",
       "\n",
       "   Relevance Score  \n",
       "0  3                \n",
       "1  2                \n",
       "2  1                \n",
       "3  1                \n",
       "4  1                "
      ]
     },
     "metadata": {},
     "output_type": "display_data"
    }
   ],
   "source": [
    "# Display lessons\n",
    "\n",
    "from IPython.display import display\n",
    "pd.options.display.max_rows\n",
    "pd.set_option('display.max_colwidth', -1)\n",
    "\n",
    "FinalOutput = pd.DataFrame(ScoreData, columns = ['Lesson Name',\"Description\", \"Warning Level\", \"Recommendation\", 'Relevance Score']) \n",
    "FinalOutput = FinalOutput.sort_values(by=['Relevance Score', 'Lesson Name'], ascending=False).reset_index(drop=True)\n",
    "display(FinalOutput)\n"
   ]
  },
  {
   "cell_type": "code",
   "execution_count": null,
   "metadata": {
    "collapsed": true
   },
   "outputs": [],
   "source": []
  }
 ],
 "metadata": {
  "anaconda-cloud": {},
  "kernelspec": {
   "display_name": "Python [Root]",
   "language": "python",
   "name": "Python [Root]"
  },
  "language_info": {
   "codemirror_mode": {
    "name": "ipython",
    "version": 3
   },
   "file_extension": ".py",
   "mimetype": "text/x-python",
   "name": "python",
   "nbconvert_exporter": "python",
   "pygments_lexer": "ipython3",
   "version": "3.5.2"
  }
 },
 "nbformat": 4,
 "nbformat_minor": 0
}
