{
 "cells": [
  {
   "cell_type": "code",
   "execution_count": 9,
   "metadata": {
    "collapsed": false
   },
   "outputs": [
    {
     "ename": "TypeError",
     "evalue": "'function' object is not iterable",
     "output_type": "error",
     "traceback": [
      "\u001b[0;31m---------------------------------------------------------------------------\u001b[0m",
      "\u001b[0;31mTypeError\u001b[0m                                 Traceback (most recent call last)",
      "\u001b[0;32m<ipython-input-9-37a9576b9cf4>\u001b[0m in \u001b[0;36m<module>\u001b[0;34m()\u001b[0m\n\u001b[1;32m      1\u001b[0m \u001b[0my\u001b[0m \u001b[0;34m=\u001b[0m \u001b[0;34m[\u001b[0m\u001b[0;36m1\u001b[0m\u001b[0;34m,\u001b[0m\u001b[0;36m2\u001b[0m\u001b[0;34m,\u001b[0m\u001b[0;36m3\u001b[0m\u001b[0;34m,\u001b[0m\u001b[0;36m4\u001b[0m\u001b[0;34m]\u001b[0m\u001b[0;34m\u001b[0m\u001b[0m\n\u001b[0;32m----> 2\u001b[0;31m \u001b[0ma\u001b[0m \u001b[0;34m=\u001b[0m \u001b[0mlist\u001b[0m\u001b[0;34m(\u001b[0m\u001b[0;32mlambda\u001b[0m \u001b[0my\u001b[0m\u001b[0;34m:\u001b[0m \u001b[0my\u001b[0m\u001b[0;34m%\u001b[0m\u001b[0;36m2\u001b[0m\u001b[0;34m==\u001b[0m\u001b[0;36m0\u001b[0m\u001b[0;34m)\u001b[0m\u001b[0;34m\u001b[0m\u001b[0m\n\u001b[0m\u001b[1;32m      3\u001b[0m \u001b[0;34m\u001b[0m\u001b[0m\n\u001b[1;32m      4\u001b[0m \u001b[0;31m# y = a(2)\u001b[0m\u001b[0;34m\u001b[0m\u001b[0;34m\u001b[0m\u001b[0m\n\u001b[1;32m      5\u001b[0m \u001b[0;34m\u001b[0m\u001b[0m\n",
      "\u001b[0;31mTypeError\u001b[0m: 'function' object is not iterable"
     ]
    }
   ],
   "source": [
    "y = [1,2,3,4]\n",
    "a = list(lambda z: y%2==0)\n",
    "\n",
    "# y = a(2)\n",
    "\n",
    "print(a)"
   ]
  },
  {
   "cell_type": "code",
   "execution_count": 20,
   "metadata": {
    "collapsed": false
   },
   "outputs": [
    {
     "name": "stderr",
     "output_type": "stream",
     "text": [
      "//anaconda/lib/python3.5/site-packages/matplotlib/tight_layout.py:222: UserWarning: tight_layout : falling back to Agg renderer\n",
      "  warnings.warn(\"tight_layout : falling back to Agg renderer\")\n"
     ]
    }
   ],
   "source": [
    "import matplotlib.pyplot as plt\n",
    "\n",
    "x = [i for i in range(10)]\n",
    "y = [5*i for i in range(10) ]\n",
    "\n",
    "\n",
    "fig, ax = plt.subplots(figsize=(5, 3))\n",
    "ax.stackplot(x, y, labels=['Eastasia', 'Eurasia', 'Oceania'])\n",
    "ax.set_title('Combined debt growth over time')\n",
    "ax.legend(loc='upper left')\n",
    "ax.set_ylabel('y')\n",
    "ax.set_xlim(xmin=x[0], xmax=x[-1])\n",
    "fig.tight_layout()\n",
    "\n",
    "# plt.xticks()\n",
    "# plt.ylabel(\"o\")\n",
    "# plt.title()\n",
    "# fig.show()\n",
    "\n"
   ]
  },
  {
   "cell_type": "code",
   "execution_count": 35,
   "metadata": {
    "collapsed": false
   },
   "outputs": [
    {
     "name": "stdout",
     "output_type": "stream",
     "text": [
      "<class 'numpy.ndarray'>\n",
      "[[ 1  2]\n",
      " [ 7 11]\n",
      " [ 8 10]\n",
      " [ 4  6]\n",
      " [ 7  9]\n",
      " [ 7 10]\n",
      " [ 6  8]\n",
      " [ 3  7]\n",
      " [ 8 12]\n",
      " [ 5  6]\n",
      " [ 7 11]\n",
      " [ 1  2]\n",
      " [ 8 10]\n",
      " [ 8  9]\n",
      " [ 6 10]\n",
      " [ 3  6]\n",
      " [ 9 11]\n",
      " [10 13]\n",
      " [10 14]\n",
      " [10 12]\n",
      " [ 3  6]\n",
      " [ 8 12]\n",
      " [ 3  4]\n",
      " [ 2  5]\n",
      " [ 4  5]\n",
      " [ 1  4]\n",
      " [ 1  2]\n",
      " [ 6  9]\n",
      " [ 3  5]\n",
      " [ 2  5]\n",
      " [ 9 12]\n",
      " [ 9 10]\n",
      " [ 3  5]\n",
      " [10 12]\n",
      " [ 6  9]\n",
      " [ 5  6]\n",
      " [ 7  8]\n",
      " [ 6  7]\n",
      " [ 1  4]\n",
      " [10 13]\n",
      " [10 11]\n",
      " [ 4  5]\n",
      " [ 8 12]\n",
      " [ 5  9]\n",
      " [ 3  6]\n",
      " [ 9 12]\n",
      " [ 8  9]\n",
      " [ 2  6]\n",
      " [ 5  7]\n",
      " [ 1  3]]\n",
      "1\n"
     ]
    }
   ],
   "source": [
    "import numpy as np\n",
    "x = np.random.randint(low=1, high=11, size=50)\n",
    "y = x + np.random.randint(1, 5, size=x.size)\n",
    "data = np.column_stack((x, y))\n",
    "\n",
    "print(type(data))\n",
    "print(data)\n",
    "print(data.min())\n",
    "\n",
    "fig, (ax1, ax2) = plt.subplots(nrows=1, ncols=2, figsize=(8, 4))\n",
    "\n",
    "ax1.scatter(x=x, y=y, marker='o', c='r', edgecolor='b')\n",
    "ax1.set_title('Scatter: $x$ versus $y$')\n",
    "ax1.set_xlabel('$x$')\n",
    "ax1.set_ylabel('$y$')\n",
    "\n",
    "ax2.hist(data, bins=np.arange(data.min(), data.max()), label=('x', 'y'))\n",
    "ax2.legend(loc=(0.65, 0.8))\n",
    "# ax2.set_title('Frequencies of $x$ and $y$')\n",
    "ax2.yaxis.tick_right()\n",
    "fig.show()"
   ]
  },
  {
   "cell_type": "code",
   "execution_count": 38,
   "metadata": {
    "collapsed": true
   },
   "outputs": [],
   "source": [
    "fig, ax = plt.subplots(nrows=2, ncols=2, figsize=(7, 7))\n",
    "fig.show()\n",
    "ax1, ax2, ax3, ax4 = ax.flatten()  # flatten a 2d NumPy array to 1d\n",
    "fig.show()"
   ]
  },
  {
   "cell_type": "code",
   "execution_count": 39,
   "metadata": {
    "collapsed": true
   },
   "outputs": [],
   "source": [
    "def add_titlebox(ax, text):\n",
    "...     ax.text(.55, .8, text,\n",
    "...         horizontalalignment='center',\n",
    "...         transform=ax.transAxes,\n",
    "...         bbox=dict(facecolor='white', alpha=0.6),\n",
    "...         fontsize=12.5)\n",
    "...     return ax"
   ]
  },
  {
   "cell_type": "code",
   "execution_count": null,
   "metadata": {
    "collapsed": true
   },
   "outputs": [],
   "source": [
    "plt.gca() "
   ]
  }
 ],
 "metadata": {
  "anaconda-cloud": {},
  "kernelspec": {
   "display_name": "Python [Root]",
   "language": "python",
   "name": "Python [Root]"
  },
  "language_info": {
   "codemirror_mode": {
    "name": "ipython",
    "version": 3
   },
   "file_extension": ".py",
   "mimetype": "text/x-python",
   "name": "python",
   "nbconvert_exporter": "python",
   "pygments_lexer": "ipython3",
   "version": "3.5.2"
  }
 },
 "nbformat": 4,
 "nbformat_minor": 0
}
